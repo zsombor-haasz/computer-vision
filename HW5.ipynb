{
  "nbformat": 4,
  "nbformat_minor": 0,
  "metadata": {
    "colab": {
      "provenance": [],
      "machine_shape": "hm",
      "collapsed_sections": [
        "JNZqg_GM3P41"
      ],
      "include_colab_link": true
    },
    "kernelspec": {
      "name": "python3",
      "display_name": "Python 3"
    },
    "language_info": {
      "name": "python"
    },
    "accelerator": "GPU",
    "widgets": {
      "application/vnd.jupyter.widget-state+json": {
        "71dc12c3777741db84178eb9b4aa61a1": {
          "model_module": "@jupyter-widgets/controls",
          "model_name": "HBoxModel",
          "model_module_version": "1.5.0",
          "state": {
            "_dom_classes": [],
            "_model_module": "@jupyter-widgets/controls",
            "_model_module_version": "1.5.0",
            "_model_name": "HBoxModel",
            "_view_count": null,
            "_view_module": "@jupyter-widgets/controls",
            "_view_module_version": "1.5.0",
            "_view_name": "HBoxView",
            "box_style": "",
            "children": [
              "IPY_MODEL_8134976af74f4020bffe2c054693b528",
              "IPY_MODEL_83fbdd40027f4f1db4a4ee1afa8db6ea",
              "IPY_MODEL_fb9a98c1f888421496e05f775b6eeb31"
            ],
            "layout": "IPY_MODEL_963863aee39b42a196ab6d06406cfd8f"
          }
        },
        "8134976af74f4020bffe2c054693b528": {
          "model_module": "@jupyter-widgets/controls",
          "model_name": "HTMLModel",
          "model_module_version": "1.5.0",
          "state": {
            "_dom_classes": [],
            "_model_module": "@jupyter-widgets/controls",
            "_model_module_version": "1.5.0",
            "_model_name": "HTMLModel",
            "_view_count": null,
            "_view_module": "@jupyter-widgets/controls",
            "_view_module_version": "1.5.0",
            "_view_name": "HTMLView",
            "description": "",
            "description_tooltip": null,
            "layout": "IPY_MODEL_14f07b99328e4a5b80081eccac273134",
            "placeholder": "​",
            "style": "IPY_MODEL_161b134d21a1491e9b9d40630f7dc7a9",
            "value": "100%"
          }
        },
        "83fbdd40027f4f1db4a4ee1afa8db6ea": {
          "model_module": "@jupyter-widgets/controls",
          "model_name": "FloatProgressModel",
          "model_module_version": "1.5.0",
          "state": {
            "_dom_classes": [],
            "_model_module": "@jupyter-widgets/controls",
            "_model_module_version": "1.5.0",
            "_model_name": "FloatProgressModel",
            "_view_count": null,
            "_view_module": "@jupyter-widgets/controls",
            "_view_module_version": "1.5.0",
            "_view_name": "ProgressView",
            "bar_style": "success",
            "description": "",
            "description_tooltip": null,
            "layout": "IPY_MODEL_e7de16d381b846829c6815056d0a2b58",
            "max": 170498071,
            "min": 0,
            "orientation": "horizontal",
            "style": "IPY_MODEL_3869524c1c274307987f935d1a832b68",
            "value": 170498071
          }
        },
        "fb9a98c1f888421496e05f775b6eeb31": {
          "model_module": "@jupyter-widgets/controls",
          "model_name": "HTMLModel",
          "model_module_version": "1.5.0",
          "state": {
            "_dom_classes": [],
            "_model_module": "@jupyter-widgets/controls",
            "_model_module_version": "1.5.0",
            "_model_name": "HTMLModel",
            "_view_count": null,
            "_view_module": "@jupyter-widgets/controls",
            "_view_module_version": "1.5.0",
            "_view_name": "HTMLView",
            "description": "",
            "description_tooltip": null,
            "layout": "IPY_MODEL_7e3cab8e01f3437bb9084725b5d39da8",
            "placeholder": "​",
            "style": "IPY_MODEL_02b1e214c27d486e88d6d28027aa0e33",
            "value": " 170498071/170498071 [00:13&lt;00:00, 13802109.88it/s]"
          }
        },
        "963863aee39b42a196ab6d06406cfd8f": {
          "model_module": "@jupyter-widgets/base",
          "model_name": "LayoutModel",
          "model_module_version": "1.2.0",
          "state": {
            "_model_module": "@jupyter-widgets/base",
            "_model_module_version": "1.2.0",
            "_model_name": "LayoutModel",
            "_view_count": null,
            "_view_module": "@jupyter-widgets/base",
            "_view_module_version": "1.2.0",
            "_view_name": "LayoutView",
            "align_content": null,
            "align_items": null,
            "align_self": null,
            "border": null,
            "bottom": null,
            "display": null,
            "flex": null,
            "flex_flow": null,
            "grid_area": null,
            "grid_auto_columns": null,
            "grid_auto_flow": null,
            "grid_auto_rows": null,
            "grid_column": null,
            "grid_gap": null,
            "grid_row": null,
            "grid_template_areas": null,
            "grid_template_columns": null,
            "grid_template_rows": null,
            "height": null,
            "justify_content": null,
            "justify_items": null,
            "left": null,
            "margin": null,
            "max_height": null,
            "max_width": null,
            "min_height": null,
            "min_width": null,
            "object_fit": null,
            "object_position": null,
            "order": null,
            "overflow": null,
            "overflow_x": null,
            "overflow_y": null,
            "padding": null,
            "right": null,
            "top": null,
            "visibility": null,
            "width": null
          }
        },
        "14f07b99328e4a5b80081eccac273134": {
          "model_module": "@jupyter-widgets/base",
          "model_name": "LayoutModel",
          "model_module_version": "1.2.0",
          "state": {
            "_model_module": "@jupyter-widgets/base",
            "_model_module_version": "1.2.0",
            "_model_name": "LayoutModel",
            "_view_count": null,
            "_view_module": "@jupyter-widgets/base",
            "_view_module_version": "1.2.0",
            "_view_name": "LayoutView",
            "align_content": null,
            "align_items": null,
            "align_self": null,
            "border": null,
            "bottom": null,
            "display": null,
            "flex": null,
            "flex_flow": null,
            "grid_area": null,
            "grid_auto_columns": null,
            "grid_auto_flow": null,
            "grid_auto_rows": null,
            "grid_column": null,
            "grid_gap": null,
            "grid_row": null,
            "grid_template_areas": null,
            "grid_template_columns": null,
            "grid_template_rows": null,
            "height": null,
            "justify_content": null,
            "justify_items": null,
            "left": null,
            "margin": null,
            "max_height": null,
            "max_width": null,
            "min_height": null,
            "min_width": null,
            "object_fit": null,
            "object_position": null,
            "order": null,
            "overflow": null,
            "overflow_x": null,
            "overflow_y": null,
            "padding": null,
            "right": null,
            "top": null,
            "visibility": null,
            "width": null
          }
        },
        "161b134d21a1491e9b9d40630f7dc7a9": {
          "model_module": "@jupyter-widgets/controls",
          "model_name": "DescriptionStyleModel",
          "model_module_version": "1.5.0",
          "state": {
            "_model_module": "@jupyter-widgets/controls",
            "_model_module_version": "1.5.0",
            "_model_name": "DescriptionStyleModel",
            "_view_count": null,
            "_view_module": "@jupyter-widgets/base",
            "_view_module_version": "1.2.0",
            "_view_name": "StyleView",
            "description_width": ""
          }
        },
        "e7de16d381b846829c6815056d0a2b58": {
          "model_module": "@jupyter-widgets/base",
          "model_name": "LayoutModel",
          "model_module_version": "1.2.0",
          "state": {
            "_model_module": "@jupyter-widgets/base",
            "_model_module_version": "1.2.0",
            "_model_name": "LayoutModel",
            "_view_count": null,
            "_view_module": "@jupyter-widgets/base",
            "_view_module_version": "1.2.0",
            "_view_name": "LayoutView",
            "align_content": null,
            "align_items": null,
            "align_self": null,
            "border": null,
            "bottom": null,
            "display": null,
            "flex": null,
            "flex_flow": null,
            "grid_area": null,
            "grid_auto_columns": null,
            "grid_auto_flow": null,
            "grid_auto_rows": null,
            "grid_column": null,
            "grid_gap": null,
            "grid_row": null,
            "grid_template_areas": null,
            "grid_template_columns": null,
            "grid_template_rows": null,
            "height": null,
            "justify_content": null,
            "justify_items": null,
            "left": null,
            "margin": null,
            "max_height": null,
            "max_width": null,
            "min_height": null,
            "min_width": null,
            "object_fit": null,
            "object_position": null,
            "order": null,
            "overflow": null,
            "overflow_x": null,
            "overflow_y": null,
            "padding": null,
            "right": null,
            "top": null,
            "visibility": null,
            "width": null
          }
        },
        "3869524c1c274307987f935d1a832b68": {
          "model_module": "@jupyter-widgets/controls",
          "model_name": "ProgressStyleModel",
          "model_module_version": "1.5.0",
          "state": {
            "_model_module": "@jupyter-widgets/controls",
            "_model_module_version": "1.5.0",
            "_model_name": "ProgressStyleModel",
            "_view_count": null,
            "_view_module": "@jupyter-widgets/base",
            "_view_module_version": "1.2.0",
            "_view_name": "StyleView",
            "bar_color": null,
            "description_width": ""
          }
        },
        "7e3cab8e01f3437bb9084725b5d39da8": {
          "model_module": "@jupyter-widgets/base",
          "model_name": "LayoutModel",
          "model_module_version": "1.2.0",
          "state": {
            "_model_module": "@jupyter-widgets/base",
            "_model_module_version": "1.2.0",
            "_model_name": "LayoutModel",
            "_view_count": null,
            "_view_module": "@jupyter-widgets/base",
            "_view_module_version": "1.2.0",
            "_view_name": "LayoutView",
            "align_content": null,
            "align_items": null,
            "align_self": null,
            "border": null,
            "bottom": null,
            "display": null,
            "flex": null,
            "flex_flow": null,
            "grid_area": null,
            "grid_auto_columns": null,
            "grid_auto_flow": null,
            "grid_auto_rows": null,
            "grid_column": null,
            "grid_gap": null,
            "grid_row": null,
            "grid_template_areas": null,
            "grid_template_columns": null,
            "grid_template_rows": null,
            "height": null,
            "justify_content": null,
            "justify_items": null,
            "left": null,
            "margin": null,
            "max_height": null,
            "max_width": null,
            "min_height": null,
            "min_width": null,
            "object_fit": null,
            "object_position": null,
            "order": null,
            "overflow": null,
            "overflow_x": null,
            "overflow_y": null,
            "padding": null,
            "right": null,
            "top": null,
            "visibility": null,
            "width": null
          }
        },
        "02b1e214c27d486e88d6d28027aa0e33": {
          "model_module": "@jupyter-widgets/controls",
          "model_name": "DescriptionStyleModel",
          "model_module_version": "1.5.0",
          "state": {
            "_model_module": "@jupyter-widgets/controls",
            "_model_module_version": "1.5.0",
            "_model_name": "DescriptionStyleModel",
            "_view_count": null,
            "_view_module": "@jupyter-widgets/base",
            "_view_module_version": "1.2.0",
            "_view_name": "StyleView",
            "description_width": ""
          }
        }
      }
    }
  },
  "cells": [
    {
      "cell_type": "markdown",
      "metadata": {
        "id": "view-in-github",
        "colab_type": "text"
      },
      "source": [
        "<a href=\"https://colab.research.google.com/github/zsombor-haasz/computer-vision/blob/main/HW5.ipynb\" target=\"_parent\"><img src=\"https://colab.research.google.com/assets/colab-badge.svg\" alt=\"Open In Colab\"/></a>"
      ]
    },
    {
      "cell_type": "code",
      "source": [
        "!pip3 install timm==0.4.5  # 0.3.2 does not work in Colab\n",
        "!git clone https://github.com/facebookresearch/mae.git"
      ],
      "metadata": {
        "id": "ezHK8LjeAZb4",
        "colab": {
          "base_uri": "https://localhost:8080/"
        },
        "outputId": "d8fb8f4f-a9f0-4b38-b965-0e13d92e7edd"
      },
      "execution_count": null,
      "outputs": [
        {
          "output_type": "stream",
          "name": "stdout",
          "text": [
            "Looking in indexes: https://pypi.org/simple, https://us-python.pkg.dev/colab-wheels/public/simple/\n",
            "Requirement already satisfied: timm==0.4.5 in /usr/local/lib/python3.8/dist-packages (0.4.5)\n",
            "Requirement already satisfied: torch>=1.4 in /usr/local/lib/python3.8/dist-packages (from timm==0.4.5) (1.12.1+cu113)\n",
            "Requirement already satisfied: torchvision in /usr/local/lib/python3.8/dist-packages (from timm==0.4.5) (0.13.1+cu113)\n",
            "Requirement already satisfied: typing-extensions in /usr/local/lib/python3.8/dist-packages (from torch>=1.4->timm==0.4.5) (4.1.1)\n",
            "Requirement already satisfied: pillow!=8.3.*,>=5.3.0 in /usr/local/lib/python3.8/dist-packages (from torchvision->timm==0.4.5) (9.3.0)\n",
            "Requirement already satisfied: requests in /usr/local/lib/python3.8/dist-packages (from torchvision->timm==0.4.5) (2.23.0)\n",
            "Requirement already satisfied: numpy in /usr/local/lib/python3.8/dist-packages (from torchvision->timm==0.4.5) (1.21.6)\n",
            "Requirement already satisfied: certifi>=2017.4.17 in /usr/local/lib/python3.8/dist-packages (from requests->torchvision->timm==0.4.5) (2022.9.24)\n",
            "Requirement already satisfied: idna<3,>=2.5 in /usr/local/lib/python3.8/dist-packages (from requests->torchvision->timm==0.4.5) (2.10)\n",
            "Requirement already satisfied: urllib3!=1.25.0,!=1.25.1,<1.26,>=1.21.1 in /usr/local/lib/python3.8/dist-packages (from requests->torchvision->timm==0.4.5) (1.24.3)\n",
            "Requirement already satisfied: chardet<4,>=3.0.2 in /usr/local/lib/python3.8/dist-packages (from requests->torchvision->timm==0.4.5) (3.0.4)\n",
            "fatal: destination path 'mae' already exists and is not an empty directory.\n",
            "fatal: destination path 'r3m' already exists and is not an empty directory.\n",
            "Looking in indexes: https://pypi.org/simple, https://us-python.pkg.dev/colab-wheels/public/simple/\n",
            "Obtaining file:///content/r3m\n",
            "Requirement already satisfied: gdown>=4.4.0 in /usr/local/lib/python3.8/dist-packages (from r3m==0.0.0) (4.4.0)\n",
            "Requirement already satisfied: torch>=1.7.1 in /usr/local/lib/python3.8/dist-packages (from r3m==0.0.0) (1.12.1+cu113)\n",
            "Requirement already satisfied: torchvision>=0.8.2 in /usr/local/lib/python3.8/dist-packages (from r3m==0.0.0) (0.13.1+cu113)\n",
            "Requirement already satisfied: omegaconf>=2.1.1 in /usr/local/lib/python3.8/dist-packages (from r3m==0.0.0) (2.2.3)\n",
            "Requirement already satisfied: hydra-core>=1.1.1 in /usr/local/lib/python3.8/dist-packages (from r3m==0.0.0) (1.2.0)\n",
            "Requirement already satisfied: pillow>=9.0.1 in /usr/local/lib/python3.8/dist-packages (from r3m==0.0.0) (9.3.0)\n",
            "Requirement already satisfied: requests[socks] in /usr/local/lib/python3.8/dist-packages (from gdown>=4.4.0->r3m==0.0.0) (2.23.0)\n",
            "Requirement already satisfied: six in /usr/local/lib/python3.8/dist-packages (from gdown>=4.4.0->r3m==0.0.0) (1.15.0)\n",
            "Requirement already satisfied: filelock in /usr/local/lib/python3.8/dist-packages (from gdown>=4.4.0->r3m==0.0.0) (3.8.0)\n",
            "Requirement already satisfied: tqdm in /usr/local/lib/python3.8/dist-packages (from gdown>=4.4.0->r3m==0.0.0) (4.64.1)\n",
            "Requirement already satisfied: beautifulsoup4 in /usr/local/lib/python3.8/dist-packages (from gdown>=4.4.0->r3m==0.0.0) (4.6.3)\n",
            "Requirement already satisfied: packaging in /usr/local/lib/python3.8/dist-packages (from hydra-core>=1.1.1->r3m==0.0.0) (21.3)\n",
            "Requirement already satisfied: importlib-resources in /usr/local/lib/python3.8/dist-packages (from hydra-core>=1.1.1->r3m==0.0.0) (5.10.0)\n",
            "Requirement already satisfied: antlr4-python3-runtime==4.9.* in /usr/local/lib/python3.8/dist-packages (from hydra-core>=1.1.1->r3m==0.0.0) (4.9.3)\n",
            "Requirement already satisfied: PyYAML>=5.1.0 in /usr/local/lib/python3.8/dist-packages (from omegaconf>=2.1.1->r3m==0.0.0) (6.0)\n",
            "Requirement already satisfied: typing-extensions in /usr/local/lib/python3.8/dist-packages (from torch>=1.7.1->r3m==0.0.0) (4.1.1)\n",
            "Requirement already satisfied: numpy in /usr/local/lib/python3.8/dist-packages (from torchvision>=0.8.2->r3m==0.0.0) (1.21.6)\n",
            "Requirement already satisfied: zipp>=3.1.0 in /usr/local/lib/python3.8/dist-packages (from importlib-resources->hydra-core>=1.1.1->r3m==0.0.0) (3.10.0)\n",
            "Requirement already satisfied: pyparsing!=3.0.5,>=2.0.2 in /usr/local/lib/python3.8/dist-packages (from packaging->hydra-core>=1.1.1->r3m==0.0.0) (3.0.9)\n",
            "Requirement already satisfied: certifi>=2017.4.17 in /usr/local/lib/python3.8/dist-packages (from requests[socks]->gdown>=4.4.0->r3m==0.0.0) (2022.9.24)\n",
            "Requirement already satisfied: urllib3!=1.25.0,!=1.25.1,<1.26,>=1.21.1 in /usr/local/lib/python3.8/dist-packages (from requests[socks]->gdown>=4.4.0->r3m==0.0.0) (1.24.3)\n",
            "Requirement already satisfied: idna<3,>=2.5 in /usr/local/lib/python3.8/dist-packages (from requests[socks]->gdown>=4.4.0->r3m==0.0.0) (2.10)\n",
            "Requirement already satisfied: chardet<4,>=3.0.2 in /usr/local/lib/python3.8/dist-packages (from requests[socks]->gdown>=4.4.0->r3m==0.0.0) (3.0.4)\n",
            "Requirement already satisfied: PySocks!=1.5.7,>=1.5.6 in /usr/local/lib/python3.8/dist-packages (from requests[socks]->gdown>=4.4.0->r3m==0.0.0) (1.7.1)\n",
            "Installing collected packages: r3m\n",
            "  Attempting uninstall: r3m\n",
            "    Found existing installation: r3m 0.0.0\n",
            "    Can't uninstall 'r3m'. No files were found to uninstall.\n",
            "  Running setup.py develop for r3m\n",
            "Successfully installed r3m-0.0.0\n"
          ]
        }
      ]
    },
    {
      "cell_type": "code",
      "execution_count": null,
      "metadata": {
        "id": "czK4CbmNH-YE",
        "colab": {
          "base_uri": "https://localhost:8080/"
        },
        "outputId": "53ef5720-75df-41c4-e51e-3a7f76948fda"
      },
      "outputs": [
        {
          "output_type": "stream",
          "name": "stdout",
          "text": [
            "Sun Dec  4 21:36:22 2022       \n",
            "+-----------------------------------------------------------------------------+\n",
            "| NVIDIA-SMI 460.32.03    Driver Version: 460.32.03    CUDA Version: 11.2     |\n",
            "|-------------------------------+----------------------+----------------------+\n",
            "| GPU  Name        Persistence-M| Bus-Id        Disp.A | Volatile Uncorr. ECC |\n",
            "| Fan  Temp  Perf  Pwr:Usage/Cap|         Memory-Usage | GPU-Util  Compute M. |\n",
            "|                               |                      |               MIG M. |\n",
            "|===============================+======================+======================|\n",
            "|   0  Tesla T4            Off  | 00000000:00:04.0 Off |                    0 |\n",
            "| N/A   66C    P0    28W /  70W |      3MiB / 15109MiB |      0%      Default |\n",
            "|                               |                      |                  N/A |\n",
            "+-------------------------------+----------------------+----------------------+\n",
            "                                                                               \n",
            "+-----------------------------------------------------------------------------+\n",
            "| Processes:                                                                  |\n",
            "|  GPU   GI   CI        PID   Type   Process name                  GPU Memory |\n",
            "|        ID   ID                                                   Usage      |\n",
            "|=============================================================================|\n",
            "|  No running processes found                                                 |\n",
            "+-----------------------------------------------------------------------------+\n"
          ]
        }
      ],
      "source": [
        "import torch\n",
        "import torch.nn as nn\n",
        "import torch.nn.functional as F\n",
        "import torch.optim as optim\n",
        "\n",
        "import torchvision\n",
        "import torchvision.transforms as transforms\n",
        "import torchvision.models as models\n",
        "from torch.utils.data import DataLoader, Dataset\n",
        "\n",
        "import sys\n",
        "import os\n",
        "import gc\n",
        "import matplotlib.pyplot as plt\n",
        "import numpy as np\n",
        "import tqdm\n",
        "\n",
        "sys.path.append('./mae')\n",
        "import models_mae\n",
        "\n",
        "!nvidia-smi"
      ]
    },
    {
      "cell_type": "code",
      "source": [
        "if torch.cuda.is_available():\n",
        "    device = torch.device(\"cuda:0\")\n",
        "    print(\"Running on a GPU\")\n",
        "else:\n",
        "    device = torch.device(\"cpu\")\n",
        "    print(\"Running on a CPU\")"
      ],
      "metadata": {
        "id": "CoLIyclSJUHv",
        "colab": {
          "base_uri": "https://localhost:8080/"
        },
        "outputId": "b46c933c-89ef-43cd-bff2-2d81a779e233"
      },
      "execution_count": null,
      "outputs": [
        {
          "output_type": "stream",
          "name": "stdout",
          "text": [
            "Running on a GPU\n"
          ]
        }
      ]
    },
    {
      "cell_type": "code",
      "source": [
        "transform = transforms.Compose([\n",
        "                transforms.ToTensor(),\n",
        "                transforms.Normalize((0.5, 0.5, 0.5), (0.5, 0.5, 0.5))\n",
        "            ])\n",
        "\n",
        "batch_size = 4\n",
        "\n",
        "trainset = torchvision.datasets.CIFAR10(root='./data', train=True, download=True, transform=transform)\n",
        "trainloader = torch.utils.data.DataLoader(trainset, batch_size=batch_size, shuffle=True, num_workers=2)\n",
        "\n",
        "testset = torchvision.datasets.CIFAR10(root='./data', train=False, download=True, transform=transform)\n",
        "testloader = torch.utils.data.DataLoader(testset, batch_size=batch_size, shuffle=False, num_workers=2)\n",
        "\n",
        "classes = ('plane', 'car', 'bird', 'cat', 'deer', 'dog', 'frog', 'horse', 'ship', 'truck')"
      ],
      "metadata": {
        "id": "HKpvg0JJIEnX",
        "colab": {
          "base_uri": "https://localhost:8080/",
          "height": 103,
          "referenced_widgets": [
            "71dc12c3777741db84178eb9b4aa61a1",
            "8134976af74f4020bffe2c054693b528",
            "83fbdd40027f4f1db4a4ee1afa8db6ea",
            "fb9a98c1f888421496e05f775b6eeb31",
            "963863aee39b42a196ab6d06406cfd8f",
            "14f07b99328e4a5b80081eccac273134",
            "161b134d21a1491e9b9d40630f7dc7a9",
            "e7de16d381b846829c6815056d0a2b58",
            "3869524c1c274307987f935d1a832b68",
            "7e3cab8e01f3437bb9084725b5d39da8",
            "02b1e214c27d486e88d6d28027aa0e33"
          ]
        },
        "outputId": "007df4ce-e8fb-43fb-ebe8-16f949259fc8"
      },
      "execution_count": null,
      "outputs": [
        {
          "output_type": "stream",
          "name": "stdout",
          "text": [
            "Downloading https://www.cs.toronto.edu/~kriz/cifar-10-python.tar.gz to ./data/cifar-10-python.tar.gz\n"
          ]
        },
        {
          "output_type": "display_data",
          "data": {
            "text/plain": [
              "  0%|          | 0/170498071 [00:00<?, ?it/s]"
            ],
            "application/vnd.jupyter.widget-view+json": {
              "version_major": 2,
              "version_minor": 0,
              "model_id": "71dc12c3777741db84178eb9b4aa61a1"
            }
          },
          "metadata": {}
        },
        {
          "output_type": "stream",
          "name": "stdout",
          "text": [
            "Extracting ./data/cifar-10-python.tar.gz to ./data\n",
            "Files already downloaded and verified\n"
          ]
        }
      ]
    },
    {
      "cell_type": "code",
      "source": [
        "def imshow(img):\n",
        "    img = img / 2 + 0.5     # unnormalize\n",
        "    npimg = img.numpy()\n",
        "    plt.imshow(np.transpose(npimg, (1, 2, 0)))\n",
        "    plt.show()\n",
        "\n",
        "dataiter = iter(trainloader)\n",
        "images, labels = dataiter.next()\n",
        "\n",
        "imshow(torchvision.utils.make_grid(images))\n",
        "print(' '.join(f'{classes[labels[j]]:5s}' for j in range(batch_size)))"
      ],
      "metadata": {
        "id": "Z1fsHXT5IPLW",
        "colab": {
          "base_uri": "https://localhost:8080/",
          "height": 156
        },
        "outputId": "d6f65de1-1b41-487d-f0f2-d44548966bb2"
      },
      "execution_count": null,
      "outputs": [
        {
          "output_type": "display_data",
          "data": {
            "text/plain": [
              "<Figure size 432x288 with 1 Axes>"
            ],
            "image/png": "[encoded data removed]"
          },
          "metadata": {
            "needs_background": "light"
          }
        },
        {
          "output_type": "stream",
          "name": "stdout",
          "text": [
            "dog   bird  truck ship \n"
          ]
        }
      ]
    },
    {
      "cell_type": "code",
      "source": [
        "class ConvNet(nn.Module):\n",
        "    def __init__(self):\n",
        "        super().__init__()\n",
        "        ### TODO ###\n",
        "        \"\"\"\n",
        "        Make a convolutional architecture. Add convolutions (conv),\n",
        "        pooling (pool), and fully connected layers (fc). For reference, you\n",
        "        can use something like this:\n",
        "              conv1 -> pool -> conv2 -> fc1 -> fc2 -> fc3\n",
        "        Make sure the output and input are the right dimensions!\n",
        "        \"\"\"\n",
        "\n",
        "        ### END TODO ###\n",
        "\n",
        "    def forward(self, x):\n",
        "        ### TODO ###\n",
        "        \"\"\"\n",
        "        Implement the forward pass through the layers created in the init.\n",
        "        Make sure to use activation functions after the conv and fc's\n",
        "        Also, keep in mind the shape needed when switching from conv to fc\n",
        "        Don't activate the last output!\n",
        "        \"\"\"\n",
        "        ### END TODO ###\n",
        "        return x\n",
        "\n",
        "convnet = ConvNet().to(device)"
      ],
      "metadata": {
        "id": "hKkFL6bpIUz0"
      },
      "execution_count": null,
      "outputs": []
    },
    {
      "cell_type": "code",
      "source": [
        "### TODO ###\n",
        "\"\"\"\n",
        "Fill criterion with the loss we want to use\n",
        "Fill optimizer with an optimzer for the `convnet`\n",
        "\"\"\"\n",
        "criterion =\n",
        "optimizer =\n",
        "### END TODO ###"
      ],
      "metadata": {
        "id": "ogdrP15OIbpG",
        "colab": {
          "base_uri": "https://localhost:8080/",
          "height": 134
        },
        "outputId": "fd4fb969-a1d3-4069-83d9-1df9b84f795a"
      },
      "execution_count": null,
      "outputs": [
        {
          "output_type": "error",
          "ename": "SyntaxError",
          "evalue": "ignored",
          "traceback": [
            "\u001b[0;36m  File \u001b[0;32m\"<ipython-input-7-4627f0ef5638>\"\u001b[0;36m, line \u001b[0;32m6\u001b[0m\n\u001b[0;31m    criterion =\u001b[0m\n\u001b[0m                ^\u001b[0m\n\u001b[0;31mSyntaxError\u001b[0m\u001b[0;31m:\u001b[0m invalid syntax\n"
          ]
        }
      ]
    },
    {
      "cell_type": "code",
      "source": [
        "for epoch in range(5):\n",
        "    running_loss = 0.0\n",
        "    for inputs, labels in tqdm.notebook.tqdm(trainloader):\n",
        "        inputs = inputs.to(device)\n",
        "        labels = labels.to(device)\n",
        "\n",
        "        ### TODO ###\n",
        "        \"\"\" Fill in the core training loop logic \"\"\"\n",
        "        # Zero out the optimizer\n",
        "\n",
        "        # Get the network output\n",
        "\n",
        "        # Find the loss\n",
        "\n",
        "        # Backpropagate\n",
        "\n",
        "        # Update parameters with the optimizer\n",
        "\n",
        "        ### END TODO ###\n",
        "\n",
        "        running_loss += loss.item()\n",
        "    print(f'[{epoch + 1}] loss: {running_loss / (len(trainset) / batch_size):.3f}')\n",
        "    running_loss = 0.0\n",
        "\n",
        "print('Finished Training')"
      ],
      "metadata": {
        "id": "QWX3GfJsIf00"
      },
      "execution_count": null,
      "outputs": []
    },
    {
      "cell_type": "code",
      "source": [
        "dataiter = iter(testloader)\n",
        "images, labels = dataiter.next()\n",
        "\n",
        "correct = 0\n",
        "total = 0\n",
        "with torch.no_grad():\n",
        "    for images, labels in testloader:\n",
        "        images = images.to(device)\n",
        "        labels = labels.to(device)\n",
        "        ### TODO ###\n",
        "        \"\"\"\n",
        "        Loop through the data and compare the max prob predictions\n",
        "        with the ground truth. Use this to find an accuracy.\n",
        "        Hint: count correct and total!\n",
        "        \"\"\"\n",
        "        ### END TODO ###\n",
        "\n",
        "print(f'Accuracy of the network on the 10000 test images: {100 * correct // total} %')"
      ],
      "metadata": {
        "id": "9eQJ5ZfsJspD"
      },
      "execution_count": null,
      "outputs": []
    },
    {
      "cell_type": "markdown",
      "source": [
        "# Pre-compute MoCo and MAE representations"
      ],
      "metadata": {
        "id": "JNZqg_GM3P41"
      }
    },
    {
      "cell_type": "code",
      "source": [
        "transform = transforms.Compose([\n",
        "                transforms.ToTensor(),\n",
        "                transforms.Resize(224),\n",
        "                transforms.Normalize(mean=(0.485, 0.456, 0.406),\n",
        "                                     std=(0.229, 0.224, 0.225))\n",
        "            ])\n",
        "\n",
        "batch_size = 256\n",
        "\n",
        "trainset = torchvision.datasets.CIFAR10(root='./data', train=True, download=True, transform=transform)\n",
        "\n",
        "testset = torchvision.datasets.CIFAR10(root='./data', train=False, download=True, transform=transform)\n",
        "\n",
        "classes = ('plane', 'car', 'bird', 'cat', 'deer', 'dog', 'frog', 'horse', 'ship', 'truck')"
      ],
      "metadata": {
        "id": "OuOajhZaOGXz"
      },
      "execution_count": null,
      "outputs": []
    },
    {
      "cell_type": "code",
      "source": [
        "def compute_embeddings_from_dataset(dataset, model, embedding_dim, device, batch_size):\n",
        "    model.to(device=device)\n",
        "    model = model.eval()\n",
        "    dataloader = DataLoader(dataset, batch_size=batch_size, shuffle=False, num_workers=2)\n",
        "    embeddings = torch.zeros(len(dataset), embedding_dim)\n",
        "    labels = torch.zeros(len(dataset))\n",
        "    with torch.no_grad():\n",
        "        for idx, batch in enumerate(tqdm.notebook.tqdm(dataloader)):\n",
        "            start = idx * batch_size\n",
        "            end = min((idx + 1) * batch_size, len(dataset))\n",
        "\n",
        "            inputs, targets = batch\n",
        "            embs = model(inputs.to(device))\n",
        "            embeddings[start:end] = embs\n",
        "            labels[start:end] = targets\n",
        "    return embeddings, labels"
      ],
      "metadata": {
        "id": "FwmjjnVAniTp"
      },
      "execution_count": null,
      "outputs": []
    },
    {
      "cell_type": "code",
      "source": [
        "def prepare_moco(moco_state_dict):\n",
        "    moco = models.resnet50(weights=None, progress=False)\n",
        "    # rename moco pre-trained keys\n",
        "    for k in list(moco_state_dict.keys()):\n",
        "        # retain only encoder_q up to before the embedding layer\n",
        "        if k.startswith('module.encoder_q') and not k.startswith('module.encoder_q.fc'):\n",
        "            # remove prefix\n",
        "            moco_state_dict[k[len(\"module.encoder_q.\"):]] = moco_state_dict[k]\n",
        "        # delete renamed or unused k\n",
        "        del moco_state_dict[k]\n",
        "\n",
        "    msg = moco.load_state_dict(moco_state_dict, strict=False)\n",
        "    assert set(msg.missing_keys) == {\"fc.weight\", \"fc.bias\"}\n",
        "    moco.fc = nn.Identity()\n",
        "\n",
        "    for param in moco.parameters():\n",
        "        param.requires_grad = False\n",
        "\n",
        "    return moco\n",
        "! curl -OL https://dl.fbaipublicfiles.com/moco/moco_checkpoints/moco_v2_800ep/moco_v2_800ep_pretrain.pth.tar\n",
        "checkpoint_moco = torch.load(\"/content/moco_v2_800ep_pretrain.pth.tar\", map_location=torch.device('cpu'))\n",
        "moco_model = prepare_moco(checkpoint_moco[\"state_dict\"])\n",
        "print('MoCo model loaded.')"
      ],
      "metadata": {
        "id": "51WhA0FWyPpM"
      },
      "execution_count": null,
      "outputs": []
    },
    {
      "cell_type": "code",
      "source": [
        "moco_train_embeddings, moco_train_labels = compute_embeddings_from_dataset(trainset, moco_model, 2048, device, batch_size)\n",
        "moco_test_embeddings, moco_test_labels = compute_embeddings_from_dataset(testset, moco_model, 2048, device, batch_size)"
      ],
      "metadata": {
        "id": "FoWSkL5KwkSh"
      },
      "execution_count": null,
      "outputs": []
    },
    {
      "cell_type": "code",
      "source": [
        "class MAE_embedding_model(nn.Module):\n",
        "    def __init__(self, checkpoint_path, arch='mae_vit_base_patch16'):\n",
        "        super().__init__()\n",
        "        # build model\n",
        "        model = getattr(models_mae, arch)()\n",
        "        checkpoint = torch.load(checkpoint_path, map_location='cpu')\n",
        "        model.load_state_dict(checkpoint['model'], strict=False)\n",
        "        self.mae = model\n",
        "        for param in self.mae.parameters():\n",
        "            param.requires_grad = False\n",
        "\n",
        "    def forward(self, imgs, mask_ratio=0.0):\n",
        "        latent, _, _ = self.mae.forward_encoder(imgs, mask_ratio)\n",
        "        cls_latent = latent[:, 0, :]\n",
        "        return cls_latent\n",
        "! curl -OL https://dl.fbaipublicfiles.com/mae/pretrain/mae_pretrain_vit_base.pth\n",
        "checkpoint_mae = '/content/mae_pretrain_vit_base.pth'\n",
        "mae_model = MAE_embedding_model(checkpoint_mae)\n",
        "print('MAE model loaded.')"
      ],
      "metadata": {
        "id": "ZSJSIfOvOukx"
      },
      "execution_count": null,
      "outputs": []
    },
    {
      "cell_type": "code",
      "source": [
        "mae_train_embeddings, mae_train_labels = compute_embeddings_from_dataset(trainset, mae_model, 768, device, batch_size)\n",
        "mae_test_embeddings, mae_test_labels = compute_embeddings_from_dataset(testset, mae_model, 768, device, batch_size)"
      ],
      "metadata": {
        "id": "-SKkvszUGZCU"
      },
      "execution_count": null,
      "outputs": []
    },
    {
      "cell_type": "markdown",
      "source": [
        "# 1. Linear Classifier"
      ],
      "metadata": {
        "id": "sMf1gftvGB1_"
      }
    },
    {
      "cell_type": "code",
      "source": [
        "### TODO\n",
        "\"\"\" Finish this model's class\"\"\"\n",
        "class LinearProbe(nn.Module):\n",
        "    def __init__(self, num_classes, embedding_dim):\n",
        "        super().__init__()\n",
        "        # Construct a linear layer\n",
        "        self.fc1 = nn.Linear(embedding_dim, 10)\n",
        "\n",
        "    def forward(self, x):\n",
        "        # Pass through the linear layer\n",
        "        return self.fc1(x)\n",
        "### END TODO ###"
      ],
      "metadata": {
        "id": "dLWv3KO0qHAR"
      },
      "execution_count": null,
      "outputs": []
    },
    {
      "cell_type": "code",
      "source": [
        "class FrozenEmbeddingDataset(Dataset):\n",
        "    def __init__(self, embeddings, labels):\n",
        "        self.embeddings = embeddings\n",
        "        self.labels = labels\n",
        "        assert len(self.embeddings) == len(self.labels)\n",
        "        self.length = len(self.embeddings)\n",
        "\n",
        "    def __len__(self):\n",
        "        return self.length\n",
        "\n",
        "    def __getitem__(self, idx):\n",
        "        return self.embeddings[idx], self.labels[idx]"
      ],
      "metadata": {
        "id": "LyO_y7QvqWCq"
      },
      "execution_count": null,
      "outputs": []
    },
    {
      "cell_type": "code",
      "source": [
        "def compute_accuracy(dataloader, probe):\n",
        "    correct = 0\n",
        "    total = 0\n",
        "    # since we're not training, we don't need to calculate the gradients for our outputs\n",
        "    with torch.no_grad():\n",
        "        for data in dataloader:\n",
        "            inputs, targets = data\n",
        "            inputs, targets = inputs.to(device).float(), targets.to(device).long()\n",
        "            # calculate outputs by running images through the network\n",
        "            out = probe(inputs)\n",
        "            # the class with the highest energy is what we choose as our prediction\n",
        "            _, predicted = torch.max(out.data, 1)\n",
        "            total += targets.size(0)\n",
        "            correct += (predicted == targets).sum().item()\n",
        "    return 100.0 * correct / total"
      ],
      "metadata": {
        "id": "410e_T5Frd7e"
      },
      "execution_count": null,
      "outputs": []
    },
    {
      "cell_type": "code",
      "source": [
        "batch_size = 256"
      ],
      "metadata": {
        "id": "E0sfC06VgXKI"
      },
      "execution_count": null,
      "outputs": []
    },
    {
      "cell_type": "code",
      "source": [
        "moco_probe = LinearProbe(len(classes), 2048).to(device=device)\n",
        "\n",
        "trainset = FrozenEmbeddingDataset(moco_train_embeddings, moco_train_labels)\n",
        "trainloader = DataLoader(trainset, batch_size=batch_size, shuffle=True)\n",
        "testset = FrozenEmbeddingDataset(moco_test_embeddings, moco_test_labels)\n",
        "testloader = DataLoader(testset, batch_size=batch_size, shuffle=True)\n",
        "\n",
        "### TODO ###\n",
        "\"\"\"\n",
        "Fill criterion with the loss we want to use\n",
        "Fill optimizer with an optimzer for the `convnet`\n",
        "\"\"\"\n",
        "criterion = nn.CrossEntropyLoss()\n",
        "optimizer = torch.optim.Adam(moco_probe.parameters(), 0.0001)\n",
        "### END TODO ###"
      ],
      "metadata": {
        "id": "fHP2x8to2ocI"
      },
      "execution_count": null,
      "outputs": []
    },
    {
      "cell_type": "code",
      "source": [
        "for epoch in range(80):\n",
        "    train_loss = 0.0\n",
        "    for inputs, labels in tqdm.notebook.tqdm(trainloader):\n",
        "        inputs = inputs.to(device)\n",
        "        labels = labels.to(device)\n",
        "\n",
        "        ### TODO ###\n",
        "        \"\"\" Fill in the core training loop logic \"\"\"\n",
        "        # Zero out the optimizer\n",
        "        optimizer.zero_grad()\n",
        "\n",
        "        # Get the network output\n",
        "        outputs = moco_probe(inputs)\n",
        "\n",
        "        # Find the loss\n",
        "        loss = criterion(outputs, labels)\n",
        "\n",
        "        # Backpropagate\n",
        "        loss.backward()\n",
        "\n",
        "        # Update parameters with the optimizer\n",
        "        optimizer.step()\n",
        "\n",
        "        ### END TODO ###\n",
        "\n",
        "        train_loss += loss.item()\n",
        "\n",
        "    test_loss = 0.0\n",
        "    with torch.no_grad():\n",
        "        for images, labels in testloader:\n",
        "            images = images.to(device)\n",
        "            labels = labels.to(device)\n",
        "\n",
        "            outputs = moco_probe(images)\n",
        "            loss = criterion(outputs, labels.long())\n",
        "\n",
        "            test_loss += loss.item()\n",
        "\n",
        "    print(f'[{epoch + 1}] train loss: {train_loss / (len(trainset) / batch_size):.3f} | test_loss: {test_loss / (len(testset) / batch_size):.3f}')\n",
        "\n",
        "print('Finished Training')"
      ],
      "metadata": {
        "id": "1EQXbAXuyZQu"
      },
      "execution_count": null,
      "outputs": []
    },
    {
      "cell_type": "code",
      "source": [
        "tmmoco_accuracy = compute_accuracy(testloader, moco_probe)\n",
        "print(f'Accuracy of the network on the 10000 test images: {moco_accuracy} %')"
      ],
      "metadata": {
        "id": "ezNuVZ0_ybUa"
      },
      "execution_count": null,
      "outputs": []
    },
    {
      "cell_type": "code",
      "source": [
        "mae_probe = LinearProbe(len(classes), 768).to(device=device)\n",
        "\n",
        "trainset = FrozenEmbeddingDataset(mae_train_embeddings, mae_train_labels)\n",
        "trainloader = DataLoader(trainset, batch_size=batch_size, shuffle=True)\n",
        "testset = FrozenEmbeddingDataset(mae_test_embeddings, mae_test_labels)\n",
        "testloader = DataLoader(testset, batch_size=batch_size, shuffle=True)\n",
        "\n",
        "### TODO ###\n",
        "\"\"\"\n",
        "Fill criterion with the loss we want to use\n",
        "Fill optimizer with an optimzer for the `convnet`\n",
        "\"\"\"\n",
        "criterion = nn.CrossEntropyLoss()\n",
        "optimizer = torch.optim.Adam(moco_probe.parameters(), 0.0001)\n",
        "### END TODO ###"
      ],
      "metadata": {
        "id": "e0Mres8C68Sk"
      },
      "execution_count": null,
      "outputs": []
    },
    {
      "cell_type": "code",
      "source": [
        "for epoch in range(80):\n",
        "    train_loss = 0.0\n",
        "    for inputs, labels in tqdm.notebook.tqdm(trainloader):\n",
        "        inputs = inputs.to(device)\n",
        "        labels = labels.to(device)\n",
        "\n",
        "        ### TODO ###\n",
        "        \"\"\" Fill in the core training loop logic \"\"\"\n",
        "        # Zero out the optimizer\n",
        "        optimizer.zero_grad()\n",
        "\n",
        "        # Get the network output\n",
        "        output = mae_probe(inputs)\n",
        "\n",
        "        # Find the loss\n",
        "        loss = criterion(inputs, labels)\n",
        "\n",
        "        # Backpropagate\n",
        "        loss.backward()\n",
        "\n",
        "        # Update parameters with the optimizer\n",
        "        optimizer.step()\n",
        "\n",
        "        ### END TODO ###\n",
        "\n",
        "        train_loss += loss.item()\n",
        "\n",
        "    test_loss = 0.0\n",
        "    with torch.no_grad():\n",
        "        for images, labels in testloader:\n",
        "            images = images.to(device)\n",
        "            labels = labels.to(device)\n",
        "\n",
        "            outputs = mae_probe(images)\n",
        "            loss = criterion(outputs, labels.long())\n",
        "\n",
        "            test_loss += loss.item()\n",
        "\n",
        "    print(f'[{epoch + 1}] train loss: {train_loss / (len(trainset) / batch_size):.3f} | test_loss: {test_loss / (len(testset) / batch_size):.3f}')\n",
        "\n",
        "print('Finished Training')"
      ],
      "metadata": {
        "id": "N8MMqcndT8D3"
      },
      "execution_count": null,
      "outputs": []
    },
    {
      "cell_type": "code",
      "source": [
        "moco_accuracy = compute_accuracy(testloader, mae_probe)\n",
        "print(f'Accuracy of the network on the 10000 test images: {moco_accuracy} %')"
      ],
      "metadata": {
        "id": "3L6eA4A7Y0Y5"
      },
      "execution_count": null,
      "outputs": []
    },
    {
      "cell_type": "markdown",
      "source": [
        "# 2. K-Nearest Neighbors (Evaluate with a KNN classifier instead of a linear probe)"
      ],
      "metadata": {
        "id": "Te9FIwPAGIaN"
      }
    },
    {
      "cell_type": "code",
      "source": [
        "from sklearn.neighbors import KNeighborsClassifier"
      ],
      "metadata": {
        "id": "Wl4icvDbGOEN"
      },
      "execution_count": null,
      "outputs": []
    },
    {
      "cell_type": "code",
      "source": [
        "knn_moco = KNeighborsClassifier()\n",
        "\"\"\" Fit the KNN to the embeddings from moco and the labels provided \"\"\"\n",
        "knn_moco.fit(moco_train_embeddings, moco_train_labels)"
      ],
      "metadata": {
        "id": "rTd7FqrQGWVp"
      },
      "execution_count": null,
      "outputs": []
    },
    {
      "cell_type": "code",
      "source": [
        "\"\"\" Get the predictions and accuracy on the test set \"\"\"\n",
        "predictions = knn_moco.predict(moco_test_embeddings.numpy())\n",
        "accuracy = (predictions == moco_test_labels.numpy()).mean() * 100\n",
        "print(accuracy)"
      ],
      "metadata": {
        "id": "FgxHz-mvHNb-"
      },
      "execution_count": null,
      "outputs": []
    },
    {
      "cell_type": "code",
      "source": [
        "knn_mae = KNeighborsClassifier()\n",
        "\"\"\" Fit the KNN to the embeddings from moco and the labels provided \"\"\"\n",
        "knn_mae.fit(mae_train_embeddings.numpy(), mae_train_labels.numpy())"
      ],
      "metadata": {
        "id": "7RKsOQxpHwPG"
      },
      "execution_count": null,
      "outputs": []
    },
    {
      "cell_type": "code",
      "source": [
        "\"\"\" Get the predictions and accuracy on the test set \"\"\"\n",
        "predictions = knn_mae.predict(mae_test_embeddings.numpy())\n",
        "accuracy = (predictions == mae_test_labels.numpy()).mean() * 100\n",
        "print(accuracy)"
      ],
      "metadata": {
        "id": "yAnT0k0_H2Rk"
      },
      "execution_count": null,
      "outputs": []
    },
    {
      "cell_type": "markdown",
      "source": [
        "# Visualizations"
      ],
      "metadata": {
        "id": "agSe9FNgJkFy"
      }
    },
    {
      "cell_type": "code",
      "source": [
        "from sklearn.manifold import TSNE\n",
        "from sklearn.decomposition import PCA"
      ],
      "metadata": {
        "id": "MP0gDpiZJjN7"
      },
      "execution_count": null,
      "outputs": []
    },
    {
      "cell_type": "code",
      "source": [
        "import seaborn as sns"
      ],
      "metadata": {
        "id": "xPVIAx4jLOoR"
      },
      "execution_count": null,
      "outputs": []
    },
    {
      "cell_type": "code",
      "source": [
        "# First reduce the dimension of Moco embeddings via PCA to 128 dimensions\n",
        "moco_pca = PCA(n_components=128).fit_transform(moco_train_embeddings)\n",
        "# Then make `moco_embedded` which is a TSNE projection with 2 comonents from the PCA output\n",
        "moco_embedded = TSNE(n_components=2, perplexity=50, learning_rate='auto', init='random').fit_transform(moco_pca)\n",
        "\n",
        "moco_class_labels = np.take(np.array(classes), moco_train_labels.int())\n",
        "sns.scatterplot(x=moco_embedded[:, 0], y=moco_embedded[:, 1], hue=moco_class_labels)"
      ],
      "metadata": {
        "id": "OkPjwh1qJtZV"
      },
      "execution_count": null,
      "outputs": []
    },
    {
      "cell_type": "code",
      "source": [
        "# First reduce the dimension of MAE embeddings via PCA to 128 dimensions\n",
        "mae_pca = PCA(n_components=128).fit_transform(mae_train_embeddings)\n",
        "# Then make `mae_embedded` which is a TSNE projection with 2 comonents from the PCA output\n",
        "mae_embedded = TSNE(n_components=2, perplexity=50, learning_rate='auto', init='random').fit_transform(mae_pca)\n",
        "\n",
        "mae_class_labels = np.take(np.array(classes), mae_train_labels.int())\n",
        "sns.scatterplot(x=mae_embedded[:, 0], y=mae_embedded[:, 1], hue=mae_class_labels)"
      ],
      "metadata": {
        "id": "5FobH7BAKNBE"
      },
      "execution_count": null,
      "outputs": []
    }
  ]
}